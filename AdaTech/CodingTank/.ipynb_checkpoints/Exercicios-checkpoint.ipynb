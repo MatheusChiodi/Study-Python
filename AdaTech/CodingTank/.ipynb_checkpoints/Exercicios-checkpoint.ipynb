{
 "cells": [
  {
   "cell_type": "code",
   "execution_count": 2,
   "id": "28806e67",
   "metadata": {},
   "outputs": [
    {
     "name": "stdout",
     "output_type": "stream",
     "text": [
      "Digite seu nomeMatheus\n",
      "Seu nome é: Matheus\n"
     ]
    }
   ],
   "source": [
    "#Imprima seu Nome: Escreva um programa que imprime seu nome na tela.\n",
    "name = input(\"Digite seu nome\")\n",
    "print('Seu nome é: ' + name)"
   ]
  },
  {
   "cell_type": "code",
   "execution_count": 9,
   "id": "3eedaf42",
   "metadata": {},
   "outputs": [
    {
     "name": "stdout",
     "output_type": "stream",
     "text": [
      "Digite um numero para x: 10\n",
      "Digite um numero para y: 2\n",
      "A soma de x + y = 12\n"
     ]
    }
   ],
   "source": [
    "#Calculadora Simples: Peça ao usuário dois números e mostre a soma deles.\n",
    "x = int(input(\"Digite um numero para x: \"))\n",
    "y = int(input(\"Digite um numero para y: \"))\n",
    "total = x + y\n",
    "print('A soma de x + y = ' + str(total))\n"
   ]
  },
  {
   "cell_type": "code",
   "execution_count": 13,
   "id": "c68fef81",
   "metadata": {},
   "outputs": [
    {
     "name": "stdout",
     "output_type": "stream",
     "text": [
      "Digite a temperado em Celsius: 32\n",
      "Esta emperatura em Fahrenheit é = 89.6\n"
     ]
    }
   ],
   "source": [
    "#Conversor de Temperatura: Converta uma temperatura dada em Celsius para Fahrenheit.\n",
    "temp_Celsius = float(input(\"Digite a temperado em Celsius: \"))\n",
    "temp_Fahrenheit = (temp_Celsius * 1.8) + 32\n",
    "print('Esta emperatura em Fahrenheit é = ' + str(temp_Fahrenheit))"
   ]
  },
  {
   "cell_type": "code",
   "execution_count": 15,
   "id": "2070144a",
   "metadata": {},
   "outputs": [
    {
     "name": "stdout",
     "output_type": "stream",
     "text": [
      "Digite o raio do circulo 20\n",
      "A area seria: 1256.0\n"
     ]
    }
   ],
   "source": [
    "#Área de um Círculo: Calcule a área de um círculo com um raio fornecido pelo usuário.\n",
    "raio = float(input('Digite o raio do circulo '))\n",
    "area = 3.14 * (raio * raio)\n",
    "\n",
    "print('A area seria: ' + str(area))"
   ]
  },
  {
   "cell_type": "code",
   "execution_count": 18,
   "id": "f9d35918",
   "metadata": {},
   "outputs": [
    {
     "name": "stdout",
     "output_type": "stream",
     "text": [
      "Digite um numero para x 4\n",
      "Digite um numero para y 3\n",
      "Soma: 7\n",
      "Subtração: 1\n",
      "Multiplicação: 12\n",
      "Divisão: 1.3333333333333333\n"
     ]
    }
   ],
   "source": [
    "# Operações Aritméticas: Leia dois números e mostre o resultado da adição, subtração, multiplicação, divisão, e resto da divisão.\n",
    "\n",
    "x = int(input('Digite um numero para x '))\n",
    "y = int(input('Digite um numero para y '))\n",
    "\n",
    "print('Soma: ' + str(x+y))\n",
    "print('Subtração: ' + str(x-y))\n",
    "print('Multiplicação: ' + str(x*y))\n",
    "print('Divisão: ' + str(x/y))"
   ]
  },
  {
   "cell_type": "code",
   "execution_count": 23,
   "id": "067bca0b",
   "metadata": {},
   "outputs": [
    {
     "name": "stdout",
     "output_type": "stream",
     "text": [
      "Digite um numero: 2\n",
      "Seu dobro é 4\n",
      "Seu triplo é 6\n"
     ]
    }
   ],
   "source": [
    "# dobro e Triplo: Receba um número e mostre seu dobro e triplo.\n",
    "\n",
    "x = int(input(\"Digite um numero: \"))\n",
    "print('Seu dobro é ' + str(x * 2))\n",
    "print('Seu triplo é ' + str(x * 3))"
   ]
  },
  {
   "cell_type": "code",
   "execution_count": 25,
   "id": "9de7208c",
   "metadata": {},
   "outputs": [
    {
     "name": "stdout",
     "output_type": "stream",
     "text": [
      "Digite a nota 1: 2\n",
      "Digite a nota 2: 4\n",
      "Digite a nota 3: 10\n",
      "Media: 5.333333333333333\n"
     ]
    }
   ],
   "source": [
    "# Média de Notas: Calcule a média de três notas fornecidas pelo usuário.\n",
    "\n",
    "nota1 = int(input('Digite a nota 1: '))\n",
    "nota2 = int(input('Digite a nota 2: '))\n",
    "nota3 = int(input('Digite a nota 3: '))\n",
    "\n",
    "media = (nota1 + nota2 + nota3) / 3\n",
    "\n",
    "print ('Media: ' + str(media))"
   ]
  },
  {
   "cell_type": "code",
   "execution_count": 29,
   "id": "9d9a573b",
   "metadata": {},
   "outputs": [
    {
     "name": "stdout",
     "output_type": "stream",
     "text": [
      "Quantos reais voce possui ? 50\n",
      "Voce possui: 10 dolares\n"
     ]
    }
   ],
   "source": [
    "# Conversão de Moedas: Escreva um programa que converte uma quantidade de reais em dólares.\n",
    "\n",
    "quant_real = int(input('Quantos reais voce possui ? '))\n",
    "valor_dolar = 4.94\n",
    "total = int(quant_real/valor_dolar)\n",
    "\n",
    "print('Voce possui ' + str(total) + ' dolares')"
   ]
  },
  {
   "cell_type": "code",
   "execution_count": 1,
   "id": "88951626",
   "metadata": {},
   "outputs": [
    {
     "name": "stdout",
     "output_type": "stream",
     "text": [
      "Digite uma palavera: Oito\n",
      "Palavra escrita ao contrario: otiO\n"
     ]
    }
   ],
   "source": [
    "# Revertendo uma String: Peça ao usuário uma string e imprima-a ao contrário.\n",
    "palavra = input('Digite uma palavera: ')\n",
    "palavra_invertida = palavra[::-1]\n",
    "\n",
    "print('Palavra escrita ao contrario: ' + palavra_invertida)"
   ]
  },
  {
   "cell_type": "code",
   "execution_count": 3,
   "id": "9f035a30",
   "metadata": {},
   "outputs": [
    {
     "name": "stdout",
     "output_type": "stream",
     "text": [
      "Digite um nome: Matheus\n",
      "Seu nome possui 7 caracteres\n"
     ]
    }
   ],
   "source": [
    "# Contador de Letras: Conte quantas letras tem em um nome fornecido pelo usuário.\n",
    "nome = input('Digite um nome: ')\n",
    "cont_len_nome = len(nome)\n",
    "\n",
    "print('Seu nome possui ' + str(cont_len_nome) + ' caracteres')"
   ]
  },
  {
   "cell_type": "code",
   "execution_count": 12,
   "id": "dd45a9b9",
   "metadata": {},
   "outputs": [
    {
     "name": "stdout",
     "output_type": "stream",
     "text": [
      "Qual seu nome? Douglas 40\n",
      "Qual sua idade? 40\n",
      "Oi.. Douglas 40 estamos velhos ne ? malditas contas\n"
     ]
    }
   ],
   "source": [
    "# Formatando Saudações: Peça o nome do usuário e a idade, e imprima uma saudação personalizada com esses dados.\n",
    "nome = input('Qual seu nome? ')\n",
    "idade = int(input('Qual sua idade? '))\n",
    "dt_nascimento = 2023 - int(idade)\n",
    "\n",
    "if (idade < 7):\n",
    "    print('Ola ' + nome + ' já assistiu naruto hoje ?')\n",
    "elif (16 < idade <= 18):\n",
    "    print ('Opa ' + nome + ' enem chegando em ja pegou pra estudar ?')\n",
    "elif (idade > 18):\n",
    "    print ('Oi.. ' + nome + ' estamos velhos ne ? malditas contas')"
   ]
  },
  {
   "cell_type": "code",
   "execution_count": 13,
   "id": "dee98f4c",
   "metadata": {},
   "outputs": [
    {
     "name": "stdout",
     "output_type": "stream",
     "text": [
      "Digite uma palavra: Nome\n",
      "Primeira letra: N\n",
      "Última letra: e\n"
     ]
    }
   ],
   "source": [
    "# Primeira e Última Letra: Mostre a primeira e a última letra de uma string fornecida pelo usuário.\n",
    "palavra = input('Digite uma palavra: ')\n",
    "\n",
    "primeira_letra = palavra[0]\n",
    "ultima_letra = palavra[-1]\n",
    "\n",
    "print(\"Primeira letra:\", primeira_letra)\n",
    "print(\"Última letra:\", ultima_letra)\n"
   ]
  },
  {
   "cell_type": "code",
   "execution_count": 15,
   "id": "c1329f6f",
   "metadata": {},
   "outputs": [
    {
     "name": "stdout",
     "output_type": "stream",
     "text": [
      "Digite seu nome: Matheus\n",
      "Texto em minúsculas: matheus\n",
      "Texto em maiúsculas: MATHEUS\n"
     ]
    }
   ],
   "source": [
    "# Nome em Maiúsculas e Minúsculas: Receba um nome e imprima-o em maiúsculas e em minúsculas.\n",
    "nome = input('Digite seu nome: ')\n",
    "nome_lower = nome.lower()\n",
    "nome_upper = nome.upper()\n",
    "\n",
    "print(\"Texto em minúsculas:\", nome_lower)\n",
    "print(\"Texto em maiúsculas:\", nome_upper)\n"
   ]
  },
  {
   "cell_type": "code",
   "execution_count": 27,
   "id": "f122728d",
   "metadata": {},
   "outputs": [
    {
     "name": "stdout",
     "output_type": "stream",
     "text": [
      "Qual seu nome ? Matheus Chiodi\n",
      "Seu nome ao contrário é:  Chiodi Matheus\n"
     ]
    }
   ],
   "source": [
    "# Nome ao Contrário: Leia o nome completo do usuário e imprima-o ao contrário (primeiro o sobrenome, depois o nome).\n",
    "\n",
    "nome = input ('Qual seu nome ? ')\n",
    "partes = nome.split()\n",
    "partes.reverse()\n",
    "\n",
    "nome_ao_contrario = ' '.join(partes)\n",
    "\n",
    "print(\"Seu nome ao contrário é: \", nome_ao_contrario)\n"
   ]
  },
  {
   "cell_type": "code",
   "execution_count": 21,
   "id": "2fa52bd7",
   "metadata": {},
   "outputs": [
    {
     "name": "stdout",
     "output_type": "stream",
     "text": [
      "Digite o primeiro numero: 90\n",
      "Digite o segundo numero: 90\n",
      "Ambos os numeros sao iguais\n"
     ]
    }
   ],
   "source": [
    "# Maior de Dois Números: Leia dois números e indique qual é o maior.\n",
    "numero1 = float(input('Digite o primeiro numero: '))\n",
    "numero2 = float(input('Digite o segundo numero: '))\n",
    "\n",
    "if numero1 > numero2: \n",
    "    print('Primeiro numero é maior que o segundo')\n",
    "elif numero1 < numero2: \n",
    "    print('Segundo numero maior que o primeiro')\n",
    "elif numero1 == numero2:\n",
    "    print('Ambos os numeros sao iguais')\n",
    "\n"
   ]
  },
  {
   "cell_type": "code",
   "execution_count": 22,
   "id": "38e8d2f2",
   "metadata": {},
   "outputs": [
    {
     "name": "stdout",
     "output_type": "stream",
     "text": [
      "Digite um numero2\n",
      "Numero é positivo\n"
     ]
    }
   ],
   "source": [
    "# Positivo ou Negativo: Verifique se um número fornecido é positivo, negativo ou zero.\n",
    "numero = float(input('Digite um numero'))\n",
    "\n",
    "if numero > 0: \n",
    "    print('Numero é positivo')\n",
    "elif numero < 0: \n",
    "    print('Numero é negativo')\n",
    "elif numero == 0: \n",
    "    print('Numero é 0')"
   ]
  },
  {
   "cell_type": "code",
   "execution_count": 28,
   "id": "2fac2b8d",
   "metadata": {},
   "outputs": [
    {
     "name": "stdout",
     "output_type": "stream",
     "text": [
      "Digite o ano: 2023\n",
      "2023 não é um ano bissexto.\n"
     ]
    }
   ],
   "source": [
    "# Ano Bissexto: Determine se um ano fornecido é bissexto.\n",
    "ano = int(input(\"Digite o ano: \"))\n",
    "\n",
    "if (ano % 4 == 0 and ano % 100 != 0) or (ano % 400 == 0):\n",
    "    print(f\"{ano} é um ano bissexto.\")\n",
    "else:\n",
    "    print(f\"{ano} não é um ano bissexto.\")\n"
   ]
  },
  {
   "cell_type": "code",
   "execution_count": 23,
   "id": "52807643",
   "metadata": {},
   "outputs": [
    {
     "name": "stdout",
     "output_type": "stream",
     "text": [
      "Qual sua idade? 90\n",
      "maior de idade\n"
     ]
    }
   ],
   "source": [
    "# Maioridade Legal: Verifique se uma pessoa, com idade fornecida, é maior de idade.\n",
    "idade = int(input('Qual sua idade? '))\n",
    "dt_nascimento = 2023 - int(idade)\n",
    "\n",
    "if (idade < 18):\n",
    "    print ('Menor de idade')\n",
    "elif (idade > 18):\n",
    "    print ('maior de idade')"
   ]
  },
  {
   "cell_type": "code",
   "execution_count": 24,
   "id": "132af1f3",
   "metadata": {},
   "outputs": [
    {
     "name": "stdout",
     "output_type": "stream",
     "text": [
      "Qual sua idade? 22\n",
      "adulto\n"
     ]
    }
   ],
   "source": [
    "# Classificação por Idade: Classifique uma pessoa em \"criança\", \"adolescente\", \"adulto\" ou \"idoso\" com base na idade.\n",
    "idade = int(input('Qual sua idade? '))\n",
    "dt_nascimento = 2023 - int(idade)\n",
    "\n",
    "if (idade < 7):\n",
    "    print('criança')\n",
    "elif (14 < idade < 18):\n",
    "    print ('adolescente')\n",
    "elif (18 <= idade < 50):\n",
    "    print ('adulto')\n",
    "elif(idade > 50): \n",
    "    print ('idoso')"
   ]
  },
  {
   "cell_type": "code",
   "execution_count": 26,
   "id": "6d027183",
   "metadata": {},
   "outputs": [
    {
     "name": "stdout",
     "output_type": "stream",
     "text": [
      "Digite sua senha: senha123\n",
      "Senha correta\n"
     ]
    }
   ],
   "source": [
    "# Senha Secreta: Crie um programa que pede ao usuário para digitar uma senha e verifica se está correta (defina uma senha fixa no seu código).\n",
    "\n",
    "senha = 'senha123'\n",
    "qual_senha = input('Digite sua senha: ')\n",
    "\n",
    "if senha == qual_senha:\n",
    "    print('Senha correta')\n",
    "else:\n",
    "    print('Senha incorreta')"
   ]
  }
 ],
 "metadata": {
  "kernelspec": {
   "display_name": "Python 3 (ipykernel)",
   "language": "python",
   "name": "python3"
  },
  "language_info": {
   "codemirror_mode": {
    "name": "ipython",
    "version": 3
   },
   "file_extension": ".py",
   "mimetype": "text/x-python",
   "name": "python",
   "nbconvert_exporter": "python",
   "pygments_lexer": "ipython3",
   "version": "3.11.5"
  }
 },
 "nbformat": 4,
 "nbformat_minor": 5
}
