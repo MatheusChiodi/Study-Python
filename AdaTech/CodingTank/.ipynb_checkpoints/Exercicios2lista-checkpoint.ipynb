{
 "cells": [
  {
   "cell_type": "code",
   "execution_count": 12,
   "id": "3fe78ce7",
   "metadata": {},
   "outputs": [
    {
     "name": "stdout",
     "output_type": "stream",
     "text": [
      "Escolha um sabor: 1:Chocolate | 2: Morango | 3: Flocos1\n",
      "Deseja terminar a compra ? Sim(S) ou Nao(N)n\n",
      "Escolha a calda: 1:Flocos | 2: Calda chocolate | 3: Calda de morango2\n",
      "Obrigado pela compra seu valor total deu: 11 reais\n"
     ]
    }
   ],
   "source": [
    "# loja de sorvete\n",
    "\n",
    "sabores = ['Chocolate', 'Morango', 'Flocos']\n",
    "cobertura = ['Flocos', 'Calda chocolate', 'Calda de morango']\n",
    "valores = [6, 5, 7.50]\n",
    "escolha = input('Escolha um sabor: 1:' + sabores[0] + ' | 2: '  + sabores[1] + ' | 3: ' + sabores[2] + ': ')\n",
    "terminar = input('Deseja terminar a compra ? Sim(S) ou Nao(N)')\n",
    "\n",
    "if terminar.upper() == 'S':\n",
    "    escolha = int(escolha)\n",
    "    escolha = escolha - 1\n",
    "    valor = valores[escolha]\n",
    "    print('Obrigado pela compra seu valor total deu: ' + str(valor) + ' reais')\n",
    "else:\n",
    "    cobertura = input('Escolha a calda: 1:' + cobertura[0] + ' | 2: '  + cobertura[1] + ' | 3: ' + cobertura[2] + ': ')\n",
    "    escolha = int(escolha)\n",
    "    escolha = escolha - 1\n",
    "    valor = valores[escolha]\n",
    "    valor = valor + 5\n",
    "    print('Obrigado pela compra seu valor total deu: ' + str(valor) + ' reais')\n"
   ]
  },
  {
   "cell_type": "code",
   "execution_count": 20,
   "id": "df59724c",
   "metadata": {},
   "outputs": [
    {
     "name": "stdout",
     "output_type": "stream",
     "text": [
      "Digite os numeros do seu cpf: \n",
      "CPF inválido\n"
     ]
    }
   ],
   "source": [
    "# criador de mascara de cpf (XXX.XXX.XXX-XX)\n",
    "def mascara_cpf(numeros):\n",
    "    if len(numeros) != 11 or not numeros.isdigit():\n",
    "        return \"CPF inválido\"\n",
    "    else: \n",
    "        cpf_formatado = f\"{numeros[:3]}.{numeros[3:6]}.{numeros[6:9]}-{numeros[9:]}\"\n",
    "        return cpf_formatado\n",
    "        \n",
    "\n",
    "numeros = input('Digite os numeros do seu cpf: ')\n",
    "cpf_com_mascara = mascara_cpf(numeros)\n",
    "print(cpf_com_mascara)"
   ]
  },
  {
   "cell_type": "code",
   "execution_count": 23,
   "id": "88fb7361",
   "metadata": {},
   "outputs": [
    {
     "name": "stdout",
     "output_type": "stream",
     "text": [
      "Digite os numeros do seu cnpj: 96419842000151\n",
      "96.419.842/0001-51\n"
     ]
    }
   ],
   "source": [
    "# criador de mascara de cnpj (xx.xxx.xxx/xxxx-xx)\n",
    "def mascara_cnpj(numeros):\n",
    "    if len(numeros) != 14 or not numeros.isdigit():\n",
    "        return \"CNPJ inválido\"\n",
    "    else:\n",
    "        cnpj_formatado = f\"{numeros[:2]}.{numeros[2:5]}.{numeros[5:8]}/{numeros[8:12]}-{numeros[12:]}\"\n",
    "        return cnpj_formatado\n",
    "    \n",
    "numeros = input('Digite os numeros do seu cnpj: ')\n",
    "cnpj_com_mascara = mascara_cnpj(numeros)\n",
    "print(cnpj_com_mascara)"
   ]
  },
  {
   "cell_type": "code",
   "execution_count": 27,
   "id": "97e507c4",
   "metadata": {},
   "outputs": [
    {
     "name": "stdout",
     "output_type": "stream",
     "text": [
      "Valor da compra: 7\n"
     ]
    },
    {
     "ename": "TypeError",
     "evalue": "can only concatenate str (not \"float\") to str",
     "output_type": "error",
     "traceback": [
      "\u001b[1;31m---------------------------------------------------------------------------\u001b[0m",
      "\u001b[1;31mTypeError\u001b[0m                                 Traceback (most recent call last)",
      "Cell \u001b[1;32mIn[27], line 6\u001b[0m\n\u001b[0;32m      4\u001b[0m \u001b[38;5;28;01mif\u001b[39;00m valor_compra \u001b[38;5;241m<\u001b[39m \u001b[38;5;241m10\u001b[39m:\n\u001b[0;32m      5\u001b[0m     valor_final \u001b[38;5;241m=\u001b[39m valor_compra\u001b[38;5;241m*\u001b[39m \u001b[38;5;241m0.7\u001b[39m\n\u001b[1;32m----> 6\u001b[0m     \u001b[38;5;28mprint\u001b[39m(\u001b[38;5;124;43m'\u001b[39;49m\u001b[38;5;124;43mSeu lucro será de 70\u001b[39;49m\u001b[38;5;124;43m%\u001b[39;49m\u001b[38;5;124;43m: \u001b[39;49m\u001b[38;5;124;43m'\u001b[39;49m\u001b[43m \u001b[49m\u001b[38;5;241;43m+\u001b[39;49m\u001b[43m \u001b[49m\u001b[43mvalor_final\u001b[49m)\n\u001b[0;32m      7\u001b[0m \u001b[38;5;28;01melif\u001b[39;00m \u001b[38;5;241m10\u001b[39m \u001b[38;5;241m<\u001b[39m\u001b[38;5;241m=\u001b[39m valor_compra \u001b[38;5;241m<\u001b[39m \u001b[38;5;241m30\u001b[39m:\n\u001b[0;32m      8\u001b[0m     valor_final \u001b[38;5;241m=\u001b[39m valor_compra\u001b[38;5;241m*\u001b[39m \u001b[38;5;241m0.5\u001b[39m\n",
      "\u001b[1;31mTypeError\u001b[0m: can only concatenate str (not \"float\") to str"
     ]
    }
   ],
   "source": [
    "# Um comerciante calcula o valor da venda de seus produtos\n",
    "valor_compra = float(input('Valor da compra: '))\n",
    "\n",
    "if valor_compra < 10:\n",
    "    valor_final = valor_compra* 0.7\n",
    "    print('Seu lucro será de 70%: ' + str(valor_final))\n",
    "elif 10 <= valor_compra < 30:\n",
    "    valor_final = valor_compra* 0.5\n",
    "    print('Seu lucro será de 50%: ' + str(valor_final))\n",
    "elif 30 <= valor_compra < 50:\n",
    "    valor_final = valor_compra* 0.4\n",
    "    print('Seu lucro será de 30%: ' + str(valor_final))\n",
    "elif valor >= 50:\n",
    "    valor_final = valor_compra* 0.3\n",
    "    print('Seu lucro será de 30%: ' + str(valor_final))\n",
    "    \n",
    "\n"
   ]
  },
  {
   "cell_type": "code",
   "execution_count": null,
   "id": "c4e28250",
   "metadata": {},
   "outputs": [],
   "source": []
  }
 ],
 "metadata": {
  "kernelspec": {
   "display_name": "Python 3 (ipykernel)",
   "language": "python",
   "name": "python3"
  },
  "language_info": {
   "codemirror_mode": {
    "name": "ipython",
    "version": 3
   },
   "file_extension": ".py",
   "mimetype": "text/x-python",
   "name": "python",
   "nbconvert_exporter": "python",
   "pygments_lexer": "ipython3",
   "version": "3.11.5"
  }
 },
 "nbformat": 4,
 "nbformat_minor": 5
}
