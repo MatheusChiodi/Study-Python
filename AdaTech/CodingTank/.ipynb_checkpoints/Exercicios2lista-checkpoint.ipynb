{
 "cells": [
  {
   "cell_type": "code",
   "execution_count": 12,
   "id": "3fe78ce7",
   "metadata": {},
   "outputs": [
    {
     "name": "stdout",
     "output_type": "stream",
     "text": [
      "Escolha um sabor: 1:Chocolate | 2: Morango | 3: Flocos1\n",
      "Deseja terminar a compra ? Sim(S) ou Nao(N)n\n",
      "Escolha a calda: 1:Flocos | 2: Calda chocolate | 3: Calda de morango2\n",
      "Obrigado pela compra seu valor total deu: 11 reais\n"
     ]
    }
   ],
   "source": [
    "# loja de sorvete\n",
    "\n",
    "sabores = ['Chocolate', 'Morango', 'Flocos']\n",
    "cobertura = ['Flocos', 'Calda chocolate', 'Calda de morango']\n",
    "valores = [6, 5, 7.50]\n",
    "escolha = input('Escolha um sabor: 1:' + sabores[0] + ' | 2: '  + sabores[1] + ' | 3: ' + sabores[2] + ': ')\n",
    "terminar = input('Deseja terminar a compra ? Sim(S) ou Nao(N)')\n",
    "\n",
    "if terminar.upper() == 'S':\n",
    "    escolha = int(escolha)\n",
    "    escolha = escolha - 1\n",
    "    valor = valores[escolha]\n",
    "    print('Obrigado pela compra seu valor total deu: ' + str(valor) + ' reais')\n",
    "else:\n",
    "    cobertura = input('Escolha a calda: 1:' + cobertura[0] + ' | 2: '  + cobertura[1] + ' | 3: ' + cobertura[2] + ': ')\n",
    "    escolha = int(escolha)\n",
    "    escolha = escolha - 1\n",
    "    valor = valores[escolha]\n",
    "    valor = valor + 5\n",
    "    print('Obrigado pela compra seu valor total deu: ' + str(valor) + ' reais')\n"
   ]
  },
  {
   "cell_type": "code",
   "execution_count": 17,
   "id": "6cc4cfd6",
   "metadata": {},
   "outputs": [
    {
     "name": "stdout",
     "output_type": "stream",
     "text": [
      "Digite os numeros do seu cpf: 87017846095\n",
      "None\n"
     ]
    }
   ],
   "source": [
    "# criador de mascara de cpf (XXX.XXX.XXX-XX)\n",
    "def mascara_cpf(numeros):\n",
    "    if len(numeros) != 11 or not numeros.isdigit():\n",
    "        return \"CPF inválido\"\n",
    "    else: \n",
    "        cpf_formatado = f\"{cpf[:3]}.{cpf[3:6]}.{cpf[6:9]}-{cpf[9:]}\"\n",
    "    return cpf_formatado\n",
    "        \n",
    "\n",
    "numeros = input('Digite os numeros do seu cpf: ')\n",
    "cpf_com_mascara = mascara_cpf(numeros)\n",
    "print(cpf_com_mascara)"
   ]
  },
  {
   "cell_type": "code",
   "execution_count": null,
   "id": "4910ebc0",
   "metadata": {},
   "outputs": [],
   "source": []
  }
 ],
 "metadata": {
  "kernelspec": {
   "display_name": "Python 3 (ipykernel)",
   "language": "python",
   "name": "python3"
  },
  "language_info": {
   "codemirror_mode": {
    "name": "ipython",
    "version": 3
   },
   "file_extension": ".py",
   "mimetype": "text/x-python",
   "name": "python",
   "nbconvert_exporter": "python",
   "pygments_lexer": "ipython3",
   "version": "3.11.5"
  }
 },
 "nbformat": 4,
 "nbformat_minor": 5
}
