{
 "cells": [
  {
   "cell_type": "code",
   "execution_count": 2,
   "id": "28806e67",
   "metadata": {},
   "outputs": [
    {
     "name": "stdout",
     "output_type": "stream",
     "text": [
      "Digite seu nomeMatheus\n",
      "Seu nome é: Matheus\n"
     ]
    }
   ],
   "source": [
    "#Imprima seu Nome: Escreva um programa que imprime seu nome na tela.\n",
    "name = input(\"Digite seu nome\")\n",
    "print('Seu nome é: ' + name)"
   ]
  },
  {
   "cell_type": "code",
   "execution_count": 9,
   "id": "3eedaf42",
   "metadata": {},
   "outputs": [
    {
     "name": "stdout",
     "output_type": "stream",
     "text": [
      "Digite um numero para x: 10\n",
      "Digite um numero para y: 2\n",
      "A soma de x + y = 12\n"
     ]
    }
   ],
   "source": [
    "#Calculadora Simples: Peça ao usuário dois números e mostre a soma deles.\n",
    "x = int(input(\"Digite um numero para x: \"))\n",
    "y = int(input(\"Digite um numero para y: \"))\n",
    "total = x + y\n",
    "print('A soma de x + y = ' + str(total))\n"
   ]
  },
  {
   "cell_type": "code",
   "execution_count": 13,
   "id": "c68fef81",
   "metadata": {},
   "outputs": [
    {
     "name": "stdout",
     "output_type": "stream",
     "text": [
      "Digite a temperado em Celsius: 32\n",
      "Esta emperatura em Fahrenheit é = 89.6\n"
     ]
    }
   ],
   "source": [
    "#Conversor de Temperatura: Converta uma temperatura dada em Celsius para Fahrenheit.\n",
    "temp_Celsius = float(input(\"Digite a temperado em Celsius: \"))\n",
    "temp_Fahrenheit = (temp_Celsius * 1.8) + 32\n",
    "print('Esta emperatura em Fahrenheit é = ' + str(temp_Fahrenheit))"
   ]
  },
  {
   "cell_type": "code",
   "execution_count": 15,
   "id": "2070144a",
   "metadata": {},
   "outputs": [
    {
     "name": "stdout",
     "output_type": "stream",
     "text": [
      "Digite o raio do circulo 20\n",
      "A area seria: 1256.0\n"
     ]
    }
   ],
   "source": [
    "#Área de um Círculo: Calcule a área de um círculo com um raio fornecido pelo usuário.\n",
    "raio = float(input('Digite o raio do circulo '))\n",
    "area = 3.14 * (raio * raio)\n",
    "\n",
    "print('A area seria: ' + str(area))"
   ]
  },
  {
   "cell_type": "code",
   "execution_count": 18,
   "id": "f9d35918",
   "metadata": {},
   "outputs": [
    {
     "name": "stdout",
     "output_type": "stream",
     "text": [
      "Digite um numero para x 4\n",
      "Digite um numero para y 3\n",
      "Soma: 7\n",
      "Subtração: 1\n",
      "Multiplicação: 12\n",
      "Divisão: 1.3333333333333333\n"
     ]
    }
   ],
   "source": [
    "# Operações Aritméticas: Leia dois números e mostre o resultado da adição, subtração, multiplicação, divisão, e resto da divisão.\n",
    "\n",
    "x = int(input('Digite um numero para x '))\n",
    "y = int(input('Digite um numero para y '))\n",
    "\n",
    "print('Soma: ' + str(x+y))\n",
    "print('Subtração: ' + str(x-y))\n",
    "print('Multiplicação: ' + str(x*y))\n",
    "print('Divisão: ' + str(x/y))"
   ]
  },
  {
   "cell_type": "code",
   "execution_count": 23,
   "id": "067bca0b",
   "metadata": {},
   "outputs": [
    {
     "name": "stdout",
     "output_type": "stream",
     "text": [
      "Digite um numero: 2\n",
      "Seu dobro é 4\n",
      "Seu triplo é 6\n"
     ]
    }
   ],
   "source": [
    "# dobro e Triplo: Receba um número e mostre seu dobro e triplo.\n",
    "\n",
    "x = int(input(\"Digite um numero: \"))\n",
    "print('Seu dobro é ' + str(x * 2))\n",
    "print('Seu triplo é ' + str(x * 3))"
   ]
  },
  {
   "cell_type": "code",
   "execution_count": 25,
   "id": "9de7208c",
   "metadata": {},
   "outputs": [
    {
     "name": "stdout",
     "output_type": "stream",
     "text": [
      "Digite a nota 1: 2\n",
      "Digite a nota 2: 4\n",
      "Digite a nota 3: 10\n",
      "Media: 5.333333333333333\n"
     ]
    }
   ],
   "source": [
    "# Média de Notas: Calcule a média de três notas fornecidas pelo usuário.\n",
    "\n",
    "nota1 = int(input('Digite a nota 1: '))\n",
    "nota2 = int(input('Digite a nota 2: '))\n",
    "nota3 = int(input('Digite a nota 3: '))\n",
    "\n",
    "media = (nota1 + nota2 + nota3) / 3\n",
    "\n",
    "print ('Media: ' + str(media))"
   ]
  },
  {
   "cell_type": "code",
   "execution_count": 29,
   "id": "9d9a573b",
   "metadata": {},
   "outputs": [
    {
     "name": "stdout",
     "output_type": "stream",
     "text": [
      "Quantos reais voce possui ? 50\n",
      "Voce possui: 10 dolares\n"
     ]
    }
   ],
   "source": [
    "# Conversão de Moedas: Escreva um programa que converte uma quantidade de reais em dólares.\n",
    "\n",
    "quant_real = int(input('Quantos reais voce possui ? '))\n",
    "valor_dolar = 4.94\n",
    "total = int(quant_real/valor_dolar)\n",
    "\n",
    "print('Voce possui ' + str(total) + ' dolares')"
   ]
  },
  {
   "cell_type": "code",
   "execution_count": null,
   "id": "88951626",
   "metadata": {},
   "outputs": [],
   "source": []
  }
 ],
 "metadata": {
  "kernelspec": {
   "display_name": "Python 3 (ipykernel)",
   "language": "python",
   "name": "python3"
  },
  "language_info": {
   "codemirror_mode": {
    "name": "ipython",
    "version": 3
   },
   "file_extension": ".py",
   "mimetype": "text/x-python",
   "name": "python",
   "nbconvert_exporter": "python",
   "pygments_lexer": "ipython3",
   "version": "3.11.5"
  }
 },
 "nbformat": 4,
 "nbformat_minor": 5
}
