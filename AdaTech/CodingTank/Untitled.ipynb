{
 "cells": [
  {
   "cell_type": "code",
   "execution_count": 2,
   "id": "2a8bf054",
   "metadata": {},
   "outputs": [
    {
     "name": "stdout",
     "output_type": "stream",
     "text": [
      "Digite seu nomeMatheus\n",
      "Seu nome é: Matheus\n"
     ]
    }
   ],
   "source": [
    "#Imprima seu Nome: Escreva um programa que imprime seu nome na tela.\n",
    "name = input(\"Digite seu nome\")\n",
    "print('Seu nome é: ' + name)"
   ]
  },
  {
   "cell_type": "code",
   "execution_count": 9,
   "id": "bf03a985",
   "metadata": {},
   "outputs": [
    {
     "name": "stdout",
     "output_type": "stream",
     "text": [
      "Digite um numero para x: 10\n",
      "Digite um numero para y: 2\n",
      "A soma de x + y = 12\n"
     ]
    }
   ],
   "source": [
    "#Calculadora Simples: Peça ao usuário dois números e mostre a soma deles.\n",
    "x = int(input(\"Digite um numero para x: \"))\n",
    "y = int(input(\"Digite um numero para y: \"))\n",
    "total = x + y\n",
    "print('A soma de x + y = ' + str(total))\n"
   ]
  },
  {
   "cell_type": "code",
   "execution_count": 10,
   "id": "ed60de4a",
   "metadata": {},
   "outputs": [
    {
     "name": "stdout",
     "output_type": "stream",
     "text": [
      "Digite a temperado em Celsius20\n"
     ]
    },
    {
     "ename": "TypeError",
     "evalue": "can only concatenate str (not \"float\") to str",
     "output_type": "error",
     "traceback": [
      "\u001b[1;31m---------------------------------------------------------------------------\u001b[0m",
      "\u001b[1;31mTypeError\u001b[0m                                 Traceback (most recent call last)",
      "Cell \u001b[1;32mIn[10], line 4\u001b[0m\n\u001b[0;32m      2\u001b[0m temp_Celsius \u001b[38;5;241m=\u001b[39m \u001b[38;5;28mfloat\u001b[39m(\u001b[38;5;28minput\u001b[39m(\u001b[38;5;124m\"\u001b[39m\u001b[38;5;124mDigite a temperado em Celsius\u001b[39m\u001b[38;5;124m\"\u001b[39m))\n\u001b[0;32m      3\u001b[0m temp_Fahrenheit \u001b[38;5;241m=\u001b[39m (temp_Celsius \u001b[38;5;241m*\u001b[39m \u001b[38;5;241m1.8\u001b[39m) \u001b[38;5;241m+\u001b[39m \u001b[38;5;241m32\u001b[39m\n\u001b[1;32m----> 4\u001b[0m \u001b[38;5;28mprint\u001b[39m(\u001b[38;5;124;43m'\u001b[39;49m\u001b[38;5;124;43mEsta emperatura em Fahrenheit é = \u001b[39;49m\u001b[38;5;124;43m'\u001b[39;49m\u001b[43m \u001b[49m\u001b[38;5;241;43m+\u001b[39;49m\u001b[43m \u001b[49m\u001b[43mtemp_Fahrenheit\u001b[49m)\n",
      "\u001b[1;31mTypeError\u001b[0m: can only concatenate str (not \"float\") to str"
     ]
    }
   ],
   "source": [
    "#Conversor de Temperatura: Converta uma temperatura dada em Celsius para Fahrenheit.\n",
    "temp_Celsius = float(input(\"Digite a temperado em Celsius\"))\n",
    "temp_Fahrenheit = (temp_Celsius * 1.8) + 32\n",
    "print('Esta emperatura em Fahrenheit é = ' + srt(temp_Fahrenheit)"
   ]
  },
  {
   "cell_type": "code",
   "execution_count": null,
   "id": "7eb47714",
   "metadata": {},
   "outputs": [],
   "source": []
  }
 ],
 "metadata": {
  "kernelspec": {
   "display_name": "Python 3 (ipykernel)",
   "language": "python",
   "name": "python3"
  },
  "language_info": {
   "codemirror_mode": {
    "name": "ipython",
    "version": 3
   },
   "file_extension": ".py",
   "mimetype": "text/x-python",
   "name": "python",
   "nbconvert_exporter": "python",
   "pygments_lexer": "ipython3",
   "version": "3.11.5"
  }
 },
 "nbformat": 4,
 "nbformat_minor": 5
}
