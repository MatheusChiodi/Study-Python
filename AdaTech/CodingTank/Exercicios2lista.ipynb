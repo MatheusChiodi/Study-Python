{
 "cells": [
  {
   "cell_type": "code",
   "execution_count": 12,
   "id": "3fe78ce7",
   "metadata": {},
   "outputs": [
    {
     "name": "stdout",
     "output_type": "stream",
     "text": [
      "Escolha um sabor: 1:Chocolate | 2: Morango | 3: Flocos1\n",
      "Deseja terminar a compra ? Sim(S) ou Nao(N)n\n",
      "Escolha a calda: 1:Flocos | 2: Calda chocolate | 3: Calda de morango2\n",
      "Obrigado pela compra seu valor total deu: 11 reais\n"
     ]
    }
   ],
   "source": [
    "# loja de sorvete\n",
    "\n",
    "sabores = ['Chocolate', 'Morango', 'Flocos']\n",
    "cobertura = ['Flocos', 'Calda chocolate', 'Calda de morango']\n",
    "valores = [6, 5, 7.50]\n",
    "escolha = input('Escolha um sabor: 1:' + sabores[0] + ' | 2: '  + sabores[1] + ' | 3: ' + sabores[2] + ': ')\n",
    "terminar = input('Deseja terminar a compra ? Sim(S) ou Nao(N)')\n",
    "\n",
    "if terminar.upper() == 'S':\n",
    "    escolha = int(escolha)\n",
    "    escolha = escolha - 1\n",
    "    valor = valores[escolha]\n",
    "    print('Obrigado pela compra seu valor total deu: ' + str(valor) + ' reais')\n",
    "else:\n",
    "    cobertura = input('Escolha a calda: 1:' + cobertura[0] + ' | 2: '  + cobertura[1] + ' | 3: ' + cobertura[2] + ': ')\n",
    "    escolha = int(escolha)\n",
    "    escolha = escolha - 1\n",
    "    valor = valores[escolha]\n",
    "    valor = valor + 5\n",
    "    print('Obrigado pela compra seu valor total deu: ' + str(valor) + ' reais')\n"
   ]
  },
  {
   "cell_type": "code",
   "execution_count": 20,
   "id": "b1abdd94",
   "metadata": {},
   "outputs": [
    {
     "name": "stdout",
     "output_type": "stream",
     "text": [
      "Digite os numeros do seu cpf: \n",
      "CPF inválido\n"
     ]
    }
   ],
   "source": [
    "# criador de mascara de cpf (XXX.XXX.XXX-XX)\n",
    "def mascara_cpf(numeros):\n",
    "    if len(numeros) != 11 or not numeros.isdigit():\n",
    "        return \"CPF inválido\"\n",
    "    else: \n",
    "        cpf_formatado = f\"{numeros[:3]}.{numeros[3:6]}.{numeros[6:9]}-{numeros[9:]}\"\n",
    "        return cpf_formatado\n",
    "        \n",
    "\n",
    "numeros = input('Digite os numeros do seu cpf: ')\n",
    "cpf_com_mascara = mascara_cpf(numeros)\n",
    "print(cpf_com_mascara)"
   ]
  },
  {
   "cell_type": "code",
   "execution_count": 23,
   "id": "e99f63d0",
   "metadata": {},
   "outputs": [
    {
     "name": "stdout",
     "output_type": "stream",
     "text": [
      "Digite os numeros do seu cnpj: 96419842000151\n",
      "96.419.842/0001-51\n"
     ]
    }
   ],
   "source": [
    "# criador de mascara de cnpj (xx.xxx.xxx/xxxx-xx)\n",
    "def mascara_cnpj(numeros):\n",
    "    if len(numeros) != 14 or not numeros.isdigit():\n",
    "        return \"CNPJ inválido\"\n",
    "    else:\n",
    "        cnpj_formatado = f\"{numeros[:2]}.{numeros[2:5]}.{numeros[5:8]}/{numeros[8:12]}-{numeros[12:]}\"\n",
    "        return cnpj_formatado\n",
    "    \n",
    "numeros = input('Digite os numeros do seu cnpj: ')\n",
    "cnpj_com_mascara = mascara_cnpj(numeros)\n",
    "print(cnpj_com_mascara)"
   ]
  },
  {
   "cell_type": "code",
   "execution_count": 28,
   "id": "ce92fcf7",
   "metadata": {},
   "outputs": [
    {
     "name": "stdout",
     "output_type": "stream",
     "text": [
      "Valor da compra: 7\n",
      "Seu lucro será de 70%: 4.8999999999999995\n"
     ]
    }
   ],
   "source": [
    "# Um comerciante calcula o valor da venda de seus produtos\n",
    "valor_compra = float(input('Valor da compra: '))\n",
    "\n",
    "if valor_compra < 10:\n",
    "    valor_final = valor_compra* 0.7\n",
    "    print('Seu lucro será de 70%: ' + str(valor_final))\n",
    "elif 10 <= valor_compra < 30:\n",
    "    valor_final = valor_compra* 0.5\n",
    "    print('Seu lucro será de 50%: ' + str(valor_final))\n",
    "elif 30 <= valor_compra < 50:\n",
    "    valor_final = valor_compra* 0.4\n",
    "    print('Seu lucro será de 30%: ' + str(valor_final))\n",
    "elif valor >= 50:\n",
    "    valor_final = valor_compra* 0.3\n",
    "    print('Seu lucro será de 30%: ' + str(valor_final))\n",
    "    \n",
    "\n"
   ]
  },
  {
   "cell_type": "code",
   "execution_count": null,
   "id": "c60fbc44",
   "metadata": {},
   "outputs": [],
   "source": []
  }
 ],
 "metadata": {
  "kernelspec": {
   "display_name": "Python 3 (ipykernel)",
   "language": "python",
   "name": "python3"
  },
  "language_info": {
   "codemirror_mode": {
    "name": "ipython",
    "version": 3
   },
   "file_extension": ".py",
   "mimetype": "text/x-python",
   "name": "python",
   "nbconvert_exporter": "python",
   "pygments_lexer": "ipython3",
   "version": "3.11.5"
  }
 },
 "nbformat": 4,
 "nbformat_minor": 5
}
