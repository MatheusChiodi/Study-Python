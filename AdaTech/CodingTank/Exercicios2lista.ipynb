{
 "cells": [
  {
   "cell_type": "code",
   "execution_count": 12,
   "id": "3fe78ce7",
   "metadata": {},
   "outputs": [
    {
     "name": "stdout",
     "output_type": "stream",
     "text": [
      "Escolha um sabor: 1:Chocolate | 2: Morango | 3: Flocos1\n",
      "Deseja terminar a compra ? Sim(S) ou Nao(N)n\n",
      "Escolha a calda: 1:Flocos | 2: Calda chocolate | 3: Calda de morango2\n",
      "Obrigado pela compra seu valor total deu: 11 reais\n"
     ]
    }
   ],
   "source": [
    "# loja de sorvete\n",
    "\n",
    "sabores = ['Chocolate', 'Morango', 'Flocos']\n",
    "cobertura = ['Flocos', 'Calda chocolate', 'Calda de morango']\n",
    "valores = [6, 5, 7.50]\n",
    "escolha = input('Escolha um sabor: 1:' + sabores[0] + ' | 2: '  + sabores[1] + ' | 3: ' + sabores[2] + ': ')\n",
    "terminar = input('Deseja terminar a compra ? Sim(S) ou Nao(N)')\n",
    "\n",
    "if terminar.upper() == 'S':\n",
    "    escolha = int(escolha)\n",
    "    escolha = escolha - 1\n",
    "    valor = valores[escolha]\n",
    "    print('Obrigado pela compra seu valor total deu: ' + str(valor) + ' reais')\n",
    "else:\n",
    "    cobertura = input('Escolha a calda: 1:' + cobertura[0] + ' | 2: '  + cobertura[1] + ' | 3: ' + cobertura[2] + ': ')\n",
    "    escolha = int(escolha)\n",
    "    escolha = escolha - 1\n",
    "    valor = valores[escolha]\n",
    "    valor = valor + 5\n",
    "    print('Obrigado pela compra seu valor total deu: ' + str(valor) + ' reais')\n"
   ]
  },
  {
   "cell_type": "code",
   "execution_count": 20,
   "id": "8d5ce20a",
   "metadata": {},
   "outputs": [
    {
     "name": "stdout",
     "output_type": "stream",
     "text": [
      "Digite os numeros do seu cpf: \n",
      "CPF inválido\n"
     ]
    }
   ],
   "source": [
    "# criador de mascara de cpf (XXX.XXX.XXX-XX)\n",
    "def mascara_cpf(numeros):\n",
    "    if len(numeros) != 11 or not numeros.isdigit():\n",
    "        return \"CPF inválido\"\n",
    "    else: \n",
    "        cpf_formatado = f\"{numeros[:3]}.{numeros[3:6]}.{numeros[6:9]}-{numeros[9:]}\"\n",
    "        return cpf_formatado\n",
    "        \n",
    "\n",
    "numeros = input('Digite os numeros do seu cpf: ')\n",
    "cpf_com_mascara = mascara_cpf(numeros)\n",
    "print(cpf_com_mascara)"
   ]
  },
  {
   "cell_type": "code",
   "execution_count": 22,
   "id": "321cd36e",
   "metadata": {},
   "outputs": [
    {
     "name": "stdout",
     "output_type": "stream",
     "text": [
      "Digite os numeros do seu cnpj: 96419842000151\n"
     ]
    },
    {
     "ename": "TypeError",
     "evalue": "unsupported operand type(s) for -: 'str' and 'set'",
     "output_type": "error",
     "traceback": [
      "\u001b[1;31m---------------------------------------------------------------------------\u001b[0m",
      "\u001b[1;31mTypeError\u001b[0m                                 Traceback (most recent call last)",
      "Cell \u001b[1;32mIn[22], line 10\u001b[0m\n\u001b[0;32m      7\u001b[0m         \u001b[38;5;28;01mreturn\u001b[39;00m cnpj_formatado\n\u001b[0;32m      9\u001b[0m numeros \u001b[38;5;241m=\u001b[39m \u001b[38;5;28minput\u001b[39m(\u001b[38;5;124m'\u001b[39m\u001b[38;5;124mDigite os numeros do seu cnpj: \u001b[39m\u001b[38;5;124m'\u001b[39m)\n\u001b[1;32m---> 10\u001b[0m cnpj_com_mascara \u001b[38;5;241m=\u001b[39m \u001b[43mmascara_cnpj\u001b[49m\u001b[43m(\u001b[49m\u001b[43mnumeros\u001b[49m\u001b[43m)\u001b[49m\n\u001b[0;32m     11\u001b[0m \u001b[38;5;28mprint\u001b[39m(cnpj_com_mascara)\n",
      "Cell \u001b[1;32mIn[22], line 6\u001b[0m, in \u001b[0;36mmascara_cnpj\u001b[1;34m(numeros)\u001b[0m\n\u001b[0;32m      4\u001b[0m     \u001b[38;5;28;01mreturn\u001b[39;00m \u001b[38;5;124m\"\u001b[39m\u001b[38;5;124mCNPJ inválido\u001b[39m\u001b[38;5;124m\"\u001b[39m\n\u001b[0;32m      5\u001b[0m \u001b[38;5;28;01melse\u001b[39;00m:\n\u001b[1;32m----> 6\u001b[0m     cnpj_formatado \u001b[38;5;241m=\u001b[39m \u001b[38;5;124mf\u001b[39m\u001b[38;5;124m\"\u001b[39m\u001b[38;5;132;01m{\u001b[39;00mnumeros[:\u001b[38;5;241m2\u001b[39m]\u001b[38;5;132;01m}\u001b[39;00m\u001b[38;5;124m.\u001b[39m\u001b[38;5;132;01m{\u001b[39;00mnumeros[\u001b[38;5;241m2\u001b[39m:\u001b[38;5;241m5\u001b[39m]\u001b[38;5;132;01m}\u001b[39;00m\u001b[38;5;124m.\u001b[39m\u001b[38;5;132;01m{\u001b[39;00mnumeros[\u001b[38;5;241m5\u001b[39m:\u001b[38;5;241m8\u001b[39m]\u001b[38;5;132;01m}\u001b[39;00m\u001b[38;5;124m/\u001b[39m\u001b[38;5;132;01m{\u001b[39;00m\u001b[43mnumeros\u001b[49m\u001b[43m[\u001b[49m\u001b[38;5;241;43m8\u001b[39;49m\u001b[43m:\u001b[49m\u001b[38;5;241;43m12\u001b[39;49m\u001b[43m]\u001b[49m\u001b[38;5;241;43m-\u001b[39;49m\u001b[43m{\u001b[49m\u001b[43mnumeros\u001b[49m\u001b[43m[\u001b[49m\u001b[38;5;241;43m12\u001b[39;49m\u001b[43m:\u001b[49m\u001b[43m]\u001b[49m\u001b[43m}\u001b[49m\u001b[38;5;132;01m}\u001b[39;00m\u001b[38;5;124m\"\u001b[39m\n\u001b[0;32m      7\u001b[0m     \u001b[38;5;28;01mreturn\u001b[39;00m cnpj_formatado\n",
      "\u001b[1;31mTypeError\u001b[0m: unsupported operand type(s) for -: 'str' and 'set'"
     ]
    }
   ],
   "source": [
    "# criador de mascara de cnpj (xx.xxx.xxx/xxxx-xx)\n",
    "def mascara_cnpj(numeros):\n",
    "    if len(numeros) != 14 or not numeros.isdigit():\n",
    "        return \"CNPJ inválido\"\n",
    "    else:\n",
    "        cnpj_formatado = f\"{numeros[:2]}.{numeros[2:5]}.{numeros[5:8]}/{numeros[8:12]-{numeros[12:]}}\"\n",
    "        return cnpj_formatado\n",
    "    \n",
    "numeros = input('Digite os numeros do seu cnpj: ')\n",
    "cnpj_com_mascara = mascara_cnpj(numeros)\n",
    "print(cnpj_com_mascara)"
   ]
  },
  {
   "cell_type": "code",
   "execution_count": null,
   "id": "b4ccba16",
   "metadata": {},
   "outputs": [],
   "source": []
  }
 ],
 "metadata": {
  "kernelspec": {
   "display_name": "Python 3 (ipykernel)",
   "language": "python",
   "name": "python3"
  },
  "language_info": {
   "codemirror_mode": {
    "name": "ipython",
    "version": 3
   },
   "file_extension": ".py",
   "mimetype": "text/x-python",
   "name": "python",
   "nbconvert_exporter": "python",
   "pygments_lexer": "ipython3",
   "version": "3.11.5"
  }
 },
 "nbformat": 4,
 "nbformat_minor": 5
}
